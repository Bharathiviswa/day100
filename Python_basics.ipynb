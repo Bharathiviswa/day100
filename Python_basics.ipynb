{
  "nbformat": 4,
  "nbformat_minor": 0,
  "metadata": {
    "colab": {
      "name": "Python basics.ipynb",
      "provenance": [],
      "authorship_tag": "ABX9TyPyE8YY79oyQ1+mA0xEA0dR",
      "include_colab_link": true
    },
    "kernelspec": {
      "name": "python3",
      "display_name": "Python 3"
    },
    "language_info": {
      "name": "python"
    }
  },
  "cells": [
    {
      "cell_type": "markdown",
      "metadata": {
        "id": "view-in-github",
        "colab_type": "text"
      },
      "source": [
        "<a href=\"https://colab.research.google.com/github/Bharathiviswa/day100/blob/main/Python_basics.ipynb\" target=\"_parent\"><img src=\"https://colab.research.google.com/assets/colab-badge.svg\" alt=\"Open In Colab\"/></a>"
      ]
    },
    {
      "cell_type": "markdown",
      "source": [
        "**Day 1 : STRINGS:**"
      ],
      "metadata": {
        "id": "FZTUSVLv4dpD"
      }
    },
    {
      "cell_type": "code",
      "source": [
        "def least_difference(a, b, c):\n",
        "    diff1 = abs(a - b)\n",
        "    diff2 = abs(b - c)\n",
        "    diff3 = abs(a - c)\n",
        "    return (diff1, diff2, diff3)"
      ],
      "metadata": {
        "id": "UxmVgbwX4cjb"
      },
      "execution_count": null,
      "outputs": []
    },
    {
      "cell_type": "code",
      "source": [
        "print(\n",
        "    least_difference(1, 10, 100),\n",
        "    least_difference(1, 10, 10),\n",
        "    least_difference(5, 6, 7), # Python allows trailing commas in argument lists. How nice is that?\n",
        ")"
      ],
      "metadata": {
        "colab": {
          "base_uri": "https://localhost:8080/"
        },
        "id": "8C5vreF1_ENV",
        "outputId": "b24cf666-17b2-4ed3-a21a-969a15be98ca"
      },
      "execution_count": null,
      "outputs": [
        {
          "output_type": "stream",
          "name": "stdout",
          "text": [
            "(9, 90, 99) (9, 0, 9) (1, 1, 2)\n"
          ]
        }
      ]
    },
    {
      "cell_type": "code",
      "source": [
        "if 1:\n",
        "    print(0)\n",
        "elif \"spam\":\n",
        "    print(\"spam\")"
      ],
      "metadata": {
        "colab": {
          "base_uri": "https://localhost:8080/"
        },
        "id": "3Y43Au0g4cmT",
        "outputId": "e54d4a5f-1ea3-40ef-cb1e-1510a94f56eb"
      },
      "execution_count": null,
      "outputs": [
        {
          "output_type": "stream",
          "name": "stdout",
          "text": [
            "0\n"
          ]
        }
      ]
    },
    {
      "cell_type": "code",
      "source": [
        "r = [\"Mario\", \"Bowser\", \"Luigi\"]"
      ],
      "metadata": {
        "id": "6RcTOaKa4cqA"
      },
      "execution_count": null,
      "outputs": []
    },
    {
      "cell_type": "code",
      "source": [
        "r[0] = r[2]\n",
        "r[2] = r[0]"
      ],
      "metadata": {
        "id": "_-lw367Fdpdg"
      },
      "execution_count": null,
      "outputs": []
    },
    {
      "cell_type": "code",
      "source": [
        "r"
      ],
      "metadata": {
        "colab": {
          "base_uri": "https://localhost:8080/"
        },
        "id": "qbtqfqYSdrY8",
        "outputId": "657fd3af-3767-49b0-a90a-8e1cb6329006"
      },
      "execution_count": null,
      "outputs": [
        {
          "output_type": "execute_result",
          "data": {
            "text/plain": [
              "['Luigi', 'Bowser', 'Luigi']"
            ]
          },
          "metadata": {},
          "execution_count": 3
        }
      ]
    },
    {
      "cell_type": "code",
      "source": [
        "party_attendees = ['Adela', 'Fleda', 'Owen', 'May', 'Mona', 'Gilbert', 'Ford']"
      ],
      "metadata": {
        "id": "-0uI55XdgOVM"
      },
      "execution_count": null,
      "outputs": []
    },
    {
      "cell_type": "code",
      "source": [
        "party_attendees[-3:-1]"
      ],
      "metadata": {
        "colab": {
          "base_uri": "https://localhost:8080/"
        },
        "id": "UiL8RTWzgPrn",
        "outputId": "117a386d-cdda-43af-ed9e-c22e0135d037"
      },
      "execution_count": null,
      "outputs": [
        {
          "output_type": "execute_result",
          "data": {
            "text/plain": [
              "['Mona', 'Gilbert']"
            ]
          },
          "metadata": {},
          "execution_count": 16
        }
      ]
    },
    {
      "cell_type": "code",
      "source": [
        "fl = party_attendees[-3:-1]\n",
        "\n",
        "if party_attendees[0] in fl:\n",
        "  print(True)\n",
        "else:\n",
        "  print(False)\n",
        "    "
      ],
      "metadata": {
        "colab": {
          "base_uri": "https://localhost:8080/"
        },
        "id": "7-hgL4-MgPvM",
        "outputId": "3b814042-698f-4bd6-abed-c84414f39306"
      },
      "execution_count": null,
      "outputs": [
        {
          "output_type": "stream",
          "name": "stdout",
          "text": [
            "False\n"
          ]
        }
      ]
    },
    {
      "cell_type": "code",
      "source": [
        "i = 10\n",
        "while i < 15:\n",
        "  print(i, end = ' ')\n",
        "  i += 1"
      ],
      "metadata": {
        "id": "h9sK9hsTWwxv",
        "colab": {
          "base_uri": "https://localhost:8080/"
        },
        "outputId": "20fd06d1-899a-43db-ca5c-5dc6f2e6cc6c"
      },
      "execution_count": null,
      "outputs": [
        {
          "output_type": "stream",
          "name": "stdout",
          "text": [
            "10 11 12 13 14 "
          ]
        }
      ]
    },
    {
      "cell_type": "code",
      "source": [
        "planets = ['Mercury','venus']"
      ],
      "metadata": {
        "id": "ri_WsMXaYUfN"
      },
      "execution_count": 10,
      "outputs": []
    },
    {
      "cell_type": "code",
      "source": [
        "[22 for x in planets]"
      ],
      "metadata": {
        "id": "npi5AbXAXG73",
        "colab": {
          "base_uri": "https://localhost:8080/"
        },
        "outputId": "9ea1a3c9-2670-4e5a-d6ca-c1e3c6a6e82d"
      },
      "execution_count": 11,
      "outputs": [
        {
          "output_type": "execute_result",
          "data": {
            "text/plain": [
              "[22, 22]"
            ]
          },
          "metadata": {},
          "execution_count": 11
        }
      ]
    },
    {
      "cell_type": "code",
      "source": [
        "['stupid' for x in planets]"
      ],
      "metadata": {
        "colab": {
          "base_uri": "https://localhost:8080/"
        },
        "id": "wQ9SqdAairQD",
        "outputId": "b7bfac6d-9788-4e4d-fdb1-f19d86797696"
      },
      "execution_count": 12,
      "outputs": [
        {
          "output_type": "execute_result",
          "data": {
            "text/plain": [
              "['stupid', 'stupid']"
            ]
          },
          "metadata": {},
          "execution_count": 12
        }
      ]
    },
    {
      "cell_type": "code",
      "source": [
        "def count_negatives(nums):\n",
        "  nn = [n for n in nums if n < 0]\n",
        "  print(nn)"
      ],
      "metadata": {
        "id": "lTC0LX2ni-sx"
      },
      "execution_count": 15,
      "outputs": []
    },
    {
      "cell_type": "code",
      "source": [
        "count_negatives([5, -1, -2, 0, 3])"
      ],
      "metadata": {
        "colab": {
          "base_uri": "https://localhost:8080/"
        },
        "id": "W__qzoLfjFYO",
        "outputId": "7d81a9ed-6aab-4826-cca2-8a872043adfd"
      },
      "execution_count": 16,
      "outputs": [
        {
          "output_type": "stream",
          "name": "stdout",
          "text": [
            "[-1, -2]\n"
          ]
        }
      ]
    },
    {
      "cell_type": "markdown",
      "source": [
        "**Day 2 : Loop Exercises**"
      ],
      "metadata": {
        "id": "5Mor44QelZeC"
      }
    },
    {
      "cell_type": "code",
      "source": [
        "def has_lucky_number(nums):\n",
        "    \"\"\"Return whether the given list of numbers is lucky. A lucky list contains\n",
        "    at least one number divisible by 7.\n",
        "    \"\"\"\n",
        "    for num in nums:\n",
        "        if num % 7 == 0:\n",
        "            return True\n",
        "        \n",
        "    return False"
      ],
      "metadata": {
        "id": "0-Dpfx6-lchq"
      },
      "execution_count": 24,
      "outputs": []
    },
    {
      "cell_type": "code",
      "source": [
        "has_lucky_number([4,1,6])"
      ],
      "metadata": {
        "colab": {
          "base_uri": "https://localhost:8080/"
        },
        "id": "fxFEPyQ1mBBH",
        "outputId": "14cc9953-7a96-4209-dd19-3847eddc729e"
      },
      "execution_count": 25,
      "outputs": [
        {
          "output_type": "execute_result",
          "data": {
            "text/plain": [
              "False"
            ]
          },
          "metadata": {},
          "execution_count": 25
        }
      ]
    },
    {
      "cell_type": "code",
      "source": [
        "help(any)"
      ],
      "metadata": {
        "colab": {
          "base_uri": "https://localhost:8080/"
        },
        "id": "VLE5ZQdgntd1",
        "outputId": "916c3b9c-831f-4c09-f791-b1b2d938c61a"
      },
      "execution_count": 26,
      "outputs": [
        {
          "output_type": "stream",
          "name": "stdout",
          "text": [
            "Help on built-in function any in module builtins:\n",
            "\n",
            "any(iterable, /)\n",
            "    Return True if bool(x) is True for any x in the iterable.\n",
            "    \n",
            "    If the iterable is empty, return False.\n",
            "\n"
          ]
        }
      ]
    },
    {
      "cell_type": "code",
      "source": [
        "def has_lucky_number(nums):\n",
        "  return any([num for num in nums if num % 7 == 0])"
      ],
      "metadata": {
        "id": "tltT5yffnw65"
      },
      "execution_count": 29,
      "outputs": []
    },
    {
      "cell_type": "code",
      "source": [
        "has_lucky_number([4,1,6])"
      ],
      "metadata": {
        "colab": {
          "base_uri": "https://localhost:8080/"
        },
        "id": "NqrT3VTfoGRr",
        "outputId": "050511ae-a3c2-4282-e93c-cbd18280e0e2"
      },
      "execution_count": 30,
      "outputs": [
        {
          "output_type": "execute_result",
          "data": {
            "text/plain": [
              "False"
            ]
          },
          "metadata": {},
          "execution_count": 30
        }
      ]
    },
    {
      "cell_type": "code",
      "source": [
        "def elementwise_greater_than(L, thresh):\n",
        "    \"\"\"Return a list with the same length as L, where the value at index i is \n",
        "    True if L[i] is greater than thresh, and False otherwise.\n",
        "    >>> elementwise_greater_than([1, 2, 3, 4], 2)\n",
        "    [False, False, True, True]\n",
        "    \"\"\"\n",
        "    nl = []\n",
        "    for i in L:\n",
        "      if i > thresh:\n",
        "         nl.append(True)\n",
        "      else:\n",
        "        nl.append(False) \n",
        "\n",
        "    return nl\n",
        "     \n"
      ],
      "metadata": {
        "id": "tiT7oEHmoZUW"
      },
      "execution_count": 45,
      "outputs": []
    },
    {
      "cell_type": "code",
      "source": [
        "elementwise_greater_than([1, 2, 3, 4], 2)"
      ],
      "metadata": {
        "colab": {
          "base_uri": "https://localhost:8080/"
        },
        "id": "q8MznNtRo18a",
        "outputId": "03aa7ee5-34a4-41eb-eb97-e815a12f5a08"
      },
      "execution_count": 46,
      "outputs": [
        {
          "output_type": "execute_result",
          "data": {
            "text/plain": [
              "[False, False, True, True]"
            ]
          },
          "metadata": {},
          "execution_count": 46
        }
      ]
    },
    {
      "cell_type": "code",
      "source": [
        "from tkinter.constants import TRUE\n",
        "def menu_is_boring(meals):\n",
        "  n1 = []\n",
        "  for n in range(len(meals)-1):\n",
        "    if meals[n] == meals[n+1]:\n",
        "      n1.append(False)\n",
        "    else:\n",
        "      n1.append(True)\n",
        "  \n",
        "  return n1"
      ],
      "metadata": {
        "id": "mGmxgBlxrS1I"
      },
      "execution_count": 62,
      "outputs": []
    },
    {
      "cell_type": "code",
      "source": [
        "meals = ['idly', 'idly', 'dosa','idly']\n",
        "menu_is_boring(meals)"
      ],
      "metadata": {
        "colab": {
          "base_uri": "https://localhost:8080/"
        },
        "id": "DLmO6Jg7tReW",
        "outputId": "54fce4e8-7b84-46a7-c83b-19638500f977"
      },
      "execution_count": 65,
      "outputs": [
        {
          "output_type": "execute_result",
          "data": {
            "text/plain": [
              "[False, True, True]"
            ]
          },
          "metadata": {},
          "execution_count": 65
        }
      ]
    }
  ]
}